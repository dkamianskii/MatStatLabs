{
 "cells": [
  {
   "cell_type": "code",
   "execution_count": 2,
   "metadata": {},
   "outputs": [],
   "source": [
    "import scipy.io as sio\n",
    "import numpy as np\n",
    "import seaborn as sns\n",
    "import matplotlib.pyplot as plt\n",
    "import pandas as pd\n",
    "from mpl_toolkits.axes_grid1 import make_axes_locatable\n",
    "from mpl_toolkits.mplot3d import Axes3D"
   ]
  },
  {
   "cell_type": "code",
   "execution_count": 3,
   "metadata": {
    "scrolled": true
   },
   "outputs": [],
   "source": [
    "import make_video\n",
    "import save_images"
   ]
  },
  {
   "cell_type": "markdown",
   "metadata": {},
   "source": [
    "### Loading data from file"
   ]
  },
  {
   "cell_type": "code",
   "execution_count": 4,
   "metadata": {},
   "outputs": [],
   "source": [
    "interval = [155.0, 175.0]"
   ]
  },
  {
   "cell_type": "markdown",
   "metadata": {},
   "source": [
    "casual rotation"
   ]
  },
  {
   "cell_type": "code",
   "execution_count": 5,
   "metadata": {},
   "outputs": [],
   "source": [
    "interval_rot = [157.0, 167.0]"
   ]
  },
  {
   "cell_type": "markdown",
   "metadata": {},
   "source": [
    "freaquent moving up and down"
   ]
  },
  {
   "cell_type": "code",
   "execution_count": 6,
   "metadata": {},
   "outputs": [],
   "source": [
    "interval_fluct = [167.0, 175.0]"
   ]
  },
  {
   "cell_type": "code",
   "execution_count": 7,
   "metadata": {
    "scrolled": true
   },
   "outputs": [],
   "source": [
    "original = sio.loadmat('37000_SPD16x16.mat')\n",
    "sign_matrix = np.rot90(original.get(\"sign_bb\"), 2)\n",
    "data = original.get(\"Data\")\n",
    "dt = data[0][1][0][0] * 1.0e-3\n",
    "t_start = data[1][1][0][0]\n",
    "t_end = t_start + sign_matrix.shape[2] * dt\n",
    "t_s = int((interval_rot[0] - t_start) / dt)\n",
    "t_m = int((interval_rot[1] - t_start) / dt)\n",
    "t_e = int((interval_fluct[1] - t_start) / dt)\n",
    "t_rot = slice(t_s, t_m)\n",
    "t_fluct = slice(t_m, t_e)"
   ]
  },
  {
   "cell_type": "markdown",
   "metadata": {},
   "source": [
    "По видео можно выделить два временных интервала: на интервале [157.0, 167.0] чётко прослеживается вращение системы, в то время как на интервале [167.0, 175.0] движение системы носит скорее колебательный характер, ввиду чего имеет смысл рассматривать эти два временных интервала по отдельности."
   ]
  },
  {
   "cell_type": "code",
   "execution_count": 8,
   "metadata": {},
   "outputs": [],
   "source": [
    "cur_data_rot = sign_matrix[:, :, t_rot]\n",
    "cur_data_fluct = sign_matrix[:, :, t_fluct]\n",
    "window = int(1 / dt)"
   ]
  },
  {
   "cell_type": "markdown",
   "metadata": {},
   "source": [
    "Для облегчения анализа движения системы имеет смысл анализировать движение характерной точки системы, которая бы выражала общее поведение системы. Самым очевидным и простым выбором такой точки является центр массы системы, который будем вычислять следующим образом."
   ]
  },
  {
   "cell_type": "code",
   "execution_count": 9,
   "metadata": {},
   "outputs": [],
   "source": [
    "def center_mass_point(matrix):\n",
    "    sum_x = 0\n",
    "    sum_y = 0\n",
    "    s = matrix.sum()\n",
    "    for i in range(matrix.shape[0]):\n",
    "        for j in range(matrix.shape[1]):\n",
    "            sum_x += matrix[i][j]*j\n",
    "            sum_y += matrix[i][j]*i\n",
    "    x = sum_x/s\n",
    "    y = sum_y/s\n",
    "    return np.round(x), np.round(y)"
   ]
  },
  {
   "cell_type": "markdown",
   "metadata": {},
   "source": [
    "проанализируем как изменяется положения центра масс системы на обоих временных интервалах"
   ]
  },
  {
   "cell_type": "code",
   "execution_count": 10,
   "metadata": {},
   "outputs": [],
   "source": [
    "def center_mass_movement(cur_data, interval):\n",
    "    t = []\n",
    "    center_mass_coords = []\n",
    "    inds_of_diffs = []\n",
    "    i = 0\n",
    "    prev_center = False\n",
    "    while i < cur_data.shape[2]:\n",
    "        center_mass = center_mass_point(cur_data[:, :, i])\n",
    "        center_mass_coords.append(center_mass)\n",
    "        t.append(interval[0] + i * dt)\n",
    "        if prev_center and (center_mass != prev_center):\n",
    "            inds_of_diffs.append((prev_center, center_mass, i))\n",
    "        prev_center = center_mass\n",
    "        i += 1\n",
    "    return center_mass_coords, inds_of_diffs, t"
   ]
  },
  {
   "cell_type": "code",
   "execution_count": 11,
   "metadata": {
    "scrolled": true
   },
   "outputs": [],
   "source": [
    "center_mass_coords_rot, inds_of_diffs_rot, t_rot = center_mass_movement(cur_data_rot, interval_rot)\n",
    "center_mass_coords_fluct, inds_of_diffs_fluct, t_fluct = center_mass_movement(cur_data_fluct, interval_fluct)"
   ]
  },
  {
   "cell_type": "markdown",
   "metadata": {},
   "source": [
    "Рассмотрим саначала интервал колебаний. Из данных по изменению положения центра масс видно, что сами колебания так же происходят интервалами. При чем центр масс принимает только два значения: (7.0, 8.0), (8.0, 8.0) (Значение центра массы - (8.0, 7.0) связано с неточностью установления временного диапазона колебаний системы, так как после отбрасывания коротких начальных колебаний данное значение больше не встречается). В целом по полученным данным можно делать выводы о частоте колебаний. "
   ]
  },
  {
   "cell_type": "code",
   "execution_count": 12,
   "metadata": {
    "scrolled": true
   },
   "outputs": [
    {
     "data": {
      "text/plain": [
       "{(8.0, 8.0), (7.0, 8.0), (8.0, 7.0)}"
      ]
     },
     "execution_count": 12,
     "metadata": {},
     "output_type": "execute_result"
    }
   ],
   "source": [
    "center_mass_coords_fluct_set = set(center_mass_coords_fluct)\n",
    "center_mass_coords_fluct_set "
   ]
  },
  {
   "cell_type": "code",
   "execution_count": 14,
   "metadata": {},
   "outputs": [
    {
     "data": {
      "text/plain": [
       "167.5024"
      ]
     },
     "execution_count": 14,
     "metadata": {},
     "output_type": "execute_result"
    }
   ],
   "source": [
    "t_fluct[314]"
   ]
  },
  {
   "cell_type": "code",
   "execution_count": 15,
   "metadata": {},
   "outputs": [
    {
     "data": {
      "text/plain": [
       "{(8.0, 8.0), (7.0, 8.0)}"
      ]
     },
     "execution_count": 15,
     "metadata": {},
     "output_type": "execute_result"
    }
   ],
   "source": [
    "center_mass_coords_fluct_set = set(center_mass_coords_fluct[314:])\n",
    "center_mass_coords_fluct_set"
   ]
  },
  {
   "cell_type": "markdown",
   "metadata": {},
   "source": [
    "Рассмотрим интервал вращения системы."
   ]
  },
  {
   "cell_type": "code",
   "execution_count": 12,
   "metadata": {
    "scrolled": true
   },
   "outputs": [
    {
     "data": {
      "text/plain": [
       "{(7.0, 7.0), (8.0, 9.0), (8.0, 8.0), (8.0, 7.0), (7.0, 8.0), (7.0, 9.0)}"
      ]
     },
     "execution_count": 12,
     "metadata": {},
     "output_type": "execute_result"
    }
   ],
   "source": [
    "center_mass_coords_rot_set = set(center_mass_coords_rot)\n",
    "center_mass_coords_rot_set"
   ]
  },
  {
   "cell_type": "code",
   "execution_count": 13,
   "metadata": {},
   "outputs": [],
   "source": [
    "def printMatrix(s):\n",
    "    # Do heading\n",
    "    print(\"     \", end=\"\")\n",
    "    \n",
    "    for j in range(len(s[0])):\n",
    "        print(\"%5d \" % j, end=\"\")\n",
    "    print()\n",
    "    print(\"     \", end=\"\")\n",
    "    for j in range(len(s[0])):\n",
    "        print(\"------\", end=\"\")\n",
    "    print()\n",
    "    # Matrix contents\n",
    "    for i in range(len(s)):\n",
    "        print(\"%3d |\" % (i), end=\"\") # Row nums\n",
    "        for j in range(len(s[0])):\n",
    "            print(\"%5d \" % (s[i][j]), end=\"\")\n",
    "        print()"
   ]
  },
  {
   "cell_type": "markdown",
   "metadata": {},
   "source": [
    "Как видно из визуализации, у положения центра масс давольно небольшой диапазон изменений. Конечно из полученных данных можно делать определённые выводы, о значении частоты вращения, так как имеется цикличность в движении центра масс, но необходимо также рассмотреть варианты улучшить исходные данные, с целью сделать процесс движения системы более выраженным, чтобы наблюдения по одной точке ближе соответствовали визуализации системы."
   ]
  },
  {
   "cell_type": "markdown",
   "metadata": {},
   "source": [
    "Рассмотрим состояния системы в моменты времени t1 и t2, с разным положением центра массы. "
   ]
  },
  {
   "cell_type": "markdown",
   "metadata": {},
   "source": [
    "(7.0, 9.0)"
   ]
  },
  {
   "cell_type": "code",
   "execution_count": 14,
   "metadata": {},
   "outputs": [
    {
     "name": "stdout",
     "output_type": "stream",
     "text": [
      "         0     1     2     3     4     5     6     7     8     9    10    11    12    13    14    15 \n",
      "     ------------------------------------------------------------------------------------------------\n",
      "  0 |   97   139   239   257   295   333   325   326   351   449   254   286   301   293   252   238 \n",
      "  1 |    5   162   207   233   240   250   285   275   310   129   251   270   258   248   230   218 \n",
      "  2 |   10   153   186   221   236   266   281   290   313   270   252   236   249   213   200   206 \n",
      "  3 |  117   186   227   271   298   332   354   357   366   330   298   270   272   235   217   231 \n",
      "  4 |  126   204   250   305   304   364   398   383   376   384   312   269   270   219   189   226 \n",
      "  5 |  201   256   363   397   440   477   511   524   482   432   390   358   326   285   271   269 \n",
      "  6 |  234   302   445   508   535   560   588   600   540   488   459   426   365   338   314   308 \n",
      "  7 |  267   354   557   636   700   699   702   701   661   625   552   513   449   417   376   363 \n",
      "  8 |  277   396   680   866  1074   980   914   884   813   796   687   636   567   524   491   482 \n",
      "  9 |  266   410   787  1030  1210  1174  1051   975   896   854   757   721   630   572   586   559 \n",
      " 10 |  249   390   815  1086  1304  1240  1089   985   902   844   751   717   636   608   611   562 \n",
      " 11 |  174   311   707   924  1126  1084   928   814   765   677   618   594   541   518   529   486 \n",
      " 12 |  197   279   580   747   911   878   752   722   678   634   600   595   524   460   522   414 \n",
      " 13 |  177   216   422   536   655   666   602   624   588   564   533   529   452   459   462   327 \n",
      " 14 |  203   228   357   417   518   508   549   570   549   540   513   491   473   470   456   344 \n",
      " 15 |  212   262   316   444   549   534   554   541   524   517   511   493   454   440   433   361 \n"
     ]
    }
   ],
   "source": [
    "printMatrix(cur_data_rot[:, :, 3255])"
   ]
  },
  {
   "cell_type": "markdown",
   "metadata": {},
   "source": [
    "(8.0, 8.0)"
   ]
  },
  {
   "cell_type": "code",
   "execution_count": 15,
   "metadata": {},
   "outputs": [
    {
     "name": "stdout",
     "output_type": "stream",
     "text": [
      "         0     1     2     3     4     5     6     7     8     9    10    11    12    13    14    15 \n",
      "     ------------------------------------------------------------------------------------------------\n",
      "  0 |   76   125   215   243   332   398   438   460   453   628   307   336   348   344   308   291 \n",
      "  1 |    6   175   230   266   331   340   399   394   430   246   330   344   332   321   304   286 \n",
      "  2 |   10   151   205   262   332   391   439   446   459   405   368   341   335   300   276   278 \n",
      "  3 |  149   225   309   357   452   534   630   622   601   539   483   456   448   407   367   369 \n",
      "  4 |  139   232   303   369   442   609   771   750   658   629   504   467   449   387   343   373 \n",
      "  5 |  227   293   393   452   607   798  1013  1015   845   735   628   580   536   482   452   452 \n",
      "  6 |  251   328   410   482   667   931  1188  1152   880   773   695   646   593   529   493   486 \n",
      "  7 |  252   324   424   483   711   982  1303  1226   941   845   720   663   610   554   506   508 \n",
      "  8 |  253   326   429   467   749   927  1227  1196   965   889   734   676   586   549   524   513 \n",
      "  9 |  258   324   421   450   617   803  1001  1008   909   875   759   723   604   547   567   530 \n",
      " 10 |  242   292   401   435   554   648   768   769   756   757   720   708   626   588   578   525 \n",
      " 11 |  160   232   315   344   427   491   538   506   533   502   517   531   515   508   532   494 \n",
      " 12 |  206   245   335   370   448   476   473   483   483   466   457   472   455   406   500   412 \n",
      " 13 |  153   193   263   298   356   370   355   383   377   363   350   359   312   318   343   210 \n",
      " 14 |  197   222   297   311   346   339   369   411   387   385   357   339   342   335   323   218 \n",
      " 15 |  187   227   252   362   398   436   489   474   421   387   391   367   346   328   315   244 \n"
     ]
    }
   ],
   "source": [
    "printMatrix(cur_data_rot[:, :, 3310])"
   ]
  },
  {
   "cell_type": "code",
   "execution_count": 14,
   "metadata": {},
   "outputs": [
    {
     "name": "stdout",
     "output_type": "stream",
     "text": [
      "number of centers position changes in rotation fase = 248\n",
      "number of time intervals in rotation fase = 6250\n",
      "number of centers position changes in fluctuation fase = 106\n",
      "number of time intervals in fluctuation fase = 5000\n"
     ]
    }
   ],
   "source": [
    "print(f'number of centers position changes in rotation fase = {len(inds_of_diffs_rot)}')\n",
    "print(f'number of time intervals in rotation fase = {len(t_rot)}')\n",
    "print(f'number of centers position changes in fluctuation fase = {len(inds_of_diffs_fluct)}')\n",
    "print(f'number of time intervals in fluctuation fase = {len(t_fluct)}')"
   ]
  },
  {
   "cell_type": "markdown",
   "metadata": {},
   "source": [
    "#### Измерение частоты вращения"
   ]
  },
  {
   "cell_type": "markdown",
   "metadata": {},
   "source": [
    "Для вычисления частоты будем использовать формулу $\\nu = \\frac{1}{T}$. Для разных фаз системы период будем считать по разному: для фазы колебаний период - время, за которое центр масс отклоняется и возрвращается в исходную точку, для фазы вращения - время с окончания последнего оборота и до возвращения центра масс в стартовую точку поменяв свое положение больше 1 раза ( в фазе вращения мы чётко видим основной цикл вращения, и таким образом, игнорируя небольшие погрешности в положении центра масс, сможем получить более достоверные результаты). "
   ]
  },
  {
   "cell_type": "code",
   "execution_count": 15,
   "metadata": {},
   "outputs": [],
   "source": [
    "def frequency(inds_of_diffs, t, fluct=False, fluct_count_limit=1):\n",
    "    cycle_frequency = 0\n",
    "    frequency_per_time = []\n",
    "    idx_start = 0\n",
    "    period = 0\n",
    "    periods = []\n",
    "    if fluct:\n",
    "        for i in range(1, len(inds_of_diffs), 2):\n",
    "            period = t[inds_of_diffs[i][2]] - t[idx_start]\n",
    "            cycle_frequency = 1/period\n",
    "            periods.append(period)\n",
    "            for k in range(0, (inds_of_diffs[i][2] - idx_start)):\n",
    "                frequency_per_time.append(cycle_frequency)\n",
    "            idx_start = inds_of_diffs[i][2]\n",
    "    else:\n",
    "        step = 1\n",
    "        fluct_count = 0\n",
    "        pos_start = 0\n",
    "        temp_idx_start = 0\n",
    "        temp_pos_start = 0\n",
    "        temp_fluct_freq = []\n",
    "        temp_periods = []\n",
    "        for i in range(1, len(inds_of_diffs), 1):\n",
    "            step += 1\n",
    "            if (step == 2) and (inds_of_diffs[i][1] == inds_of_diffs[i-1][0]):\n",
    "                period = t[inds_of_diffs[i][2]] - t[temp_idx_start]\n",
    "                cycle_frequency = 1/period\n",
    "                temp_periods.append(period)\n",
    "                for k in range(0, (inds_of_diffs[i][2] - temp_idx_start)):\n",
    "                    temp_fluct_freq.append(cycle_frequency)\n",
    "                temp_idx_start = inds_of_diffs[i][2]\n",
    "                temp_pos_start = i\n",
    "                fluct_count += 1\n",
    "                continue\n",
    "            if step == 3:\n",
    "                if fluct_count >= fluct_count_limit:\n",
    "                    frequency_per_time.extend(temp_fluct_freq)\n",
    "                    periods.extend(temp_periods)\n",
    "                    pos_start = temp_pos_start\n",
    "                    idx_start = temp_idx_start\n",
    "                    step = 1\n",
    "                fluct_count = 0\n",
    "                temp_fluct_freq = []\n",
    "                temp_periods = []\n",
    "            if step >= 3:\n",
    "                for s in range(pos_start,i-1):\n",
    "                    if inds_of_diffs[i][1] == inds_of_diffs[s][1]:\n",
    "                        period = t[inds_of_diffs[i][2]] - t[temp_idx_start]\n",
    "                        cycle_frequency = 1/period\n",
    "                        periods.append(period)\n",
    "                        for k in range(0, (inds_of_diffs[i][2] - idx_start)):\n",
    "                            frequency_per_time.append(cycle_frequency)\n",
    "                        idx_start = inds_of_diffs[i][2]\n",
    "                        temp_idx_start = idx_start\n",
    "                        pos_start = i\n",
    "                        temp_pos_start = pos_start\n",
    "                        step = 0\n",
    "                        break\n",
    "    return frequency_per_time, periods"
   ]
  },
  {
   "cell_type": "code",
   "execution_count": 16,
   "metadata": {},
   "outputs": [],
   "source": [
    "freq_rot, rot_periods = frequency(inds_of_diffs_rot, t_rot, 3)\n",
    "last_freq = freq_rot[-1]\n",
    "for k in range(0, (len(t_rot) - len(freq_rot))):\n",
    "    freq_rot.append(last_freq)"
   ]
  },
  {
   "cell_type": "code",
   "execution_count": 17,
   "metadata": {},
   "outputs": [],
   "source": [
    "plt.figure(figsize=(20,10))\n",
    "plt.xlabel('time')\n",
    "plt.ylabel('frequency')\n",
    "plt.title('Frequency in rotation interval')\n",
    "plt.plot(t_rot, freq_rot, ms=1.5)    \n",
    "plt.show()"
   ]
  },
  {
   "cell_type": "code",
   "execution_count": 18,
   "metadata": {},
   "outputs": [
    {
     "data": {
      "text/plain": [
       "4827"
      ]
     },
     "execution_count": 18,
     "metadata": {},
     "output_type": "execute_result"
    }
   ],
   "source": [
    "freq_fluct, fluct_periods = frequency(inds_of_diffs_fluct, t_fluct, True)\n",
    "len(freq_fluct)"
   ]
  },
  {
   "cell_type": "code",
   "execution_count": 46,
   "metadata": {},
   "outputs": [],
   "source": [
    "plt.figure(figsize=(20,10))\n",
    "plt.xlabel('time')\n",
    "plt.ylabel('frequency')\n",
    "plt.title('Frequency in fluctuation interval')\n",
    "plt.plot(t_fluct[:4827], freq_fluct, ms=1.5)    \n",
    "plt.show()"
   ]
  },
  {
   "cell_type": "code",
   "execution_count": 19,
   "metadata": {},
   "outputs": [],
   "source": [
    "freq_rot = np.array(freq_rot)\n",
    "freq_fluct = np.array(freq_fluct)"
   ]
  },
  {
   "cell_type": "markdown",
   "metadata": {},
   "source": [
    "Выборочные характеристики по частоте"
   ]
  },
  {
   "cell_type": "code",
   "execution_count": 43,
   "metadata": {},
   "outputs": [
    {
     "name": "stdout",
     "output_type": "stream",
     "text": [
      "mean in rotation fase = 12.928571428572038\n",
      "median in rotation fase = 5.48245614035084\n",
      "mean in fluctuation fase = 6.86244043919688\n",
      "median in fluctuation fase = 1.0557432432432328\n"
     ]
    }
   ],
   "source": [
    "print(f\"mean in rotation fase = {np.mean(freq_rot)}\")\n",
    "print(f\"median in rotation fase = {np.median(freq_rot)}\")\n",
    "print(f\"mean in fluctuation fase = {np.mean(freq_fluct)}\")\n",
    "print(f\"median in fluctuation fase = {np.median(freq_fluct)}\")"
   ]
  },
  {
   "cell_type": "code",
   "execution_count": 21,
   "metadata": {},
   "outputs": [],
   "source": [
    "from scipy import stats"
   ]
  },
  {
   "cell_type": "code",
   "execution_count": 22,
   "metadata": {},
   "outputs": [
    {
     "name": "stdout",
     "output_type": "stream",
     "text": [
      "(0.1461418970563667, 3.514105639086008e-31)\n"
     ]
    }
   ],
   "source": [
    "print(stats.pearsonr(t_rot,freq_rot))"
   ]
  },
  {
   "cell_type": "markdown",
   "metadata": {},
   "source": [
    "Из рассмотрения данных вытекают два возможных направления улучшения данных: 1. Фильтровка - бросается в глаза высокая доля \"шумовых\" значений - значений, которые практически не меняются при изменении положения системы, но вносят существенный вклад в положение центра масс. 2. Ослабление ядра - из визуализации и по рассмотренным матрицам видно, что на интервале вращения система имеет форму ядра с хвостом (по которому и прослеживается вращение). При такой структуре, высокий вес ядра, относительно хвоста, в случае низкой дискретизации пространства, может приводить к эффекту статичности центра масс. Для того чтобы исключить подобный случай, можно ослабить ядерную часть системы, удалив из неё ряд элементов. Это приведёт к смещению центра масс в сторону хвоста и должно повысить вариантивность значений его положения."
   ]
  },
  {
   "cell_type": "markdown",
   "metadata": {},
   "source": [
    "#### Фильтровка"
   ]
  },
  {
   "cell_type": "markdown",
   "metadata": {},
   "source": [
    "чтобы понять как лучше произвести фильтрацию, рассмотрим ряд выборочных характеристик положения и разброса по значениям в матрице системы. Рассмотрим следующие характеристики: медиана, квартили (1 и 3 четвёртых), среднее стандартное отклонение. "
   ]
  },
  {
   "cell_type": "code",
   "execution_count": 23,
   "metadata": {},
   "outputs": [],
   "source": [
    "matrics_rot = []\n",
    "for i in range(cur_data_rot.shape[2]):\n",
    "    matrics_rot.append(cur_data_rot[:, :, i])\n",
    "\n",
    "matrics_fluct = []\n",
    "for i in range(cur_data_fluct.shape[2]):\n",
    "    matrics_fluct.append(cur_data_fluct[:, :, i])"
   ]
  },
  {
   "cell_type": "code",
   "execution_count": 25,
   "metadata": {},
   "outputs": [
    {
     "name": "stdout",
     "output_type": "stream",
     "text": [
      "percentile 25 rot = 395.1756\n",
      "percentile 25 fluct = 186.31995\n"
     ]
    }
   ],
   "source": [
    "matrics_rot_perc_25 = np.mean([np.percentile(mat.flatten(),25) for mat in matrics_rot])\n",
    "matrics_fluct_perc_25 = np.mean([np.percentile(mat.flatten(),25) for mat in matrics_fluct])\n",
    "\n",
    "print(f'percentile 25 rot = {matrics_rot_perc_25}')\n",
    "print(f'percentile 25 fluct = {matrics_fluct_perc_25}')"
   ]
  },
  {
   "cell_type": "code",
   "execution_count": 26,
   "metadata": {},
   "outputs": [],
   "source": [
    "filtered_data_rot = np.copy(cur_data_rot)\n",
    "for k in range(filtered_data_rot.shape[2]):\n",
    "    for j in range(filtered_data_rot.shape[1]):\n",
    "        for i in range(filtered_data_rot.shape[0]):\n",
    "            if filtered_data_rot[i,j,k] <= matrics_rot_perc_25:\n",
    "                filtered_data_rot[i,j,k] = 0"
   ]
  },
  {
   "cell_type": "code",
   "execution_count": 27,
   "metadata": {},
   "outputs": [],
   "source": [
    "filtered_data_fluct = np.copy(cur_data_fluct)\n",
    "for k in range(filtered_data_fluct.shape[2]):\n",
    "    for j in range(filtered_data_fluct.shape[1]):\n",
    "        for i in range(filtered_data_fluct.shape[0]):\n",
    "            if filtered_data_fluct[i,j,k] <= matrics_fluct_perc_25:\n",
    "                filtered_data_fluct[i,j,k] = 0"
   ]
  },
  {
   "cell_type": "code",
   "execution_count": 23,
   "metadata": {},
   "outputs": [
    {
     "name": "stdout",
     "output_type": "stream",
     "text": [
      "median = 538.1099243164062\n",
      "percentile 25 = 395.1756\n",
      "percentile 75 = 748.40524\n",
      "std = 282.3274841308594\n"
     ]
    }
   ],
   "source": [
    "matrics_median = np.mean([np.median(mat.flatten()) for mat in matrics])\n",
    "matrics_perc_25 = np.mean([np.percentile(mat.flatten(),25) for mat in matrics])\n",
    "matrics_perc_75 = np.mean([np.percentile(mat.flatten(),75) for mat in matrics])\n",
    "matrics_std = np.mean([np.std(mat.flatten()) for mat in matrics])\n",
    "print(f'median = {matrics_median}')\n",
    "print(f'percentile 25 = {matrics_perc_25}')\n",
    "print(f'percentile 75 = {matrics_perc_75}')\n",
    "print(f'std = {matrics_std}')"
   ]
  },
  {
   "cell_type": "code",
   "execution_count": 28,
   "metadata": {},
   "outputs": [],
   "source": [
    "def drop_corn_element(data, drops_num):\n",
    "    droped_corn_data = np.copy(data)\n",
    "    for k in range(droped_corn_data.shape[2]):  \n",
    "        for i in range(0,drops_num):\n",
    "            max_pos = droped_corn_data[:,:,k].argmax()\n",
    "            droped_corn_data[:,:,k][max_pos//16][max_pos%16] = 0 \n",
    "    return droped_corn_data    "
   ]
  },
  {
   "cell_type": "code",
   "execution_count": 29,
   "metadata": {},
   "outputs": [],
   "source": [
    "droped_corn_data_rot = drop_corn_element(filtered_data_rot, 2)\n",
    "droped_corn_data_fluct = drop_corn_element(filtered_data_fluct, 2)"
   ]
  },
  {
   "cell_type": "markdown",
   "metadata": {},
   "source": [
    "Рассмотрим как выглядит поведение системы если отфильтровать все значения ниже и равные 25 персентилю и удалить 2 элемента из ядра системы. Визуализируем это."
   ]
  },
  {
   "cell_type": "code",
   "execution_count": 79,
   "metadata": {},
   "outputs": [],
   "source": [
    "save_images.save_projections_for_video(droped_corn_data_rot, t_rot[0], dt, 2, 'pictures_full_rot')"
   ]
  },
  {
   "cell_type": "code",
   "execution_count": 22,
   "metadata": {},
   "outputs": [],
   "source": [
    "make_video.generate_video(pathIn = \"C:\\\\Users\\\\Dmitrii\\\\Python Projects\\\\Mat Stat Course project\\\\pictures_full_rot\\\\\",\n",
    "                          pathOut=\"projections_dropped_rot.avi\", fps=10)"
   ]
  },
  {
   "cell_type": "code",
   "execution_count": 23,
   "metadata": {},
   "outputs": [],
   "source": [
    "save_images.save_projections_for_video(droped_corn_data_fluct, t_rot[0], dt, 2, 'pictures_full_fluct')\n",
    "make_video.generate_video(pathIn = \"C:\\\\Users\\\\Dmitrii\\\\Python Projects\\\\Mat Stat Course project\\\\pictures_full_fluct\\\\\",\n",
    "                          pathOut=\"projections_dropped_fluct.avi\", fps=10)"
   ]
  },
  {
   "cell_type": "code",
   "execution_count": 27,
   "metadata": {},
   "outputs": [],
   "source": [
    "make_video.generate_video(pathIn = \"C:\\\\Users\\\\Dmitrii\\\\Python Projects\\\\Mat Stat Course project\\\\pictures_full\\\\\",\n",
    "                          pathOut=\"centers_mass_filtered.avi\", fps=5)"
   ]
  },
  {
   "cell_type": "code",
   "execution_count": 30,
   "metadata": {},
   "outputs": [],
   "source": [
    "center_mass_coords_rot_droped, inds_of_diffs_rot_droped, t_rot_droped = center_mass_movement(droped_corn_data_rot, interval_rot)\n",
    "center_mass_coords_fluct_droped, inds_of_diffs_fluct_droped, t_fluct_droped = center_mass_movement(droped_corn_data_fluct, interval_fluct)"
   ]
  },
  {
   "cell_type": "code",
   "execution_count": 22,
   "metadata": {},
   "outputs": [
    {
     "data": {
      "text/plain": [
       "{(7.0, 7.0), (7.0, 8.0), (7.0, 9.0), (8.0, 7.0), (8.0, 8.0), (8.0, 9.0)}"
      ]
     },
     "execution_count": 22,
     "metadata": {},
     "output_type": "execute_result"
    }
   ],
   "source": [
    "center_mass_coords_rot_set = set(center_mass_coords_rot)\n",
    "center_mass_coords_rot_set"
   ]
  },
  {
   "cell_type": "code",
   "execution_count": 24,
   "metadata": {
    "scrolled": true
   },
   "outputs": [
    {
     "data": {
      "text/plain": [
       "{(6.0, 8.0),\n",
       " (6.0, 9.0),\n",
       " (7.0, 7.0),\n",
       " (7.0, 8.0),\n",
       " (7.0, 9.0),\n",
       " (7.0, 10.0),\n",
       " (8.0, 6.0),\n",
       " (8.0, 7.0),\n",
       " (8.0, 8.0),\n",
       " (8.0, 9.0),\n",
       " (8.0, 10.0),\n",
       " (9.0, 6.0),\n",
       " (9.0, 7.0),\n",
       " (9.0, 8.0),\n",
       " (9.0, 9.0)}"
      ]
     },
     "execution_count": 24,
     "metadata": {},
     "output_type": "execute_result"
    }
   ],
   "source": [
    "center_mass_coords_rot_droped_set = set(center_mass_coords_rot_droped)\n",
    "center_mass_coords_rot_droped_set"
   ]
  },
  {
   "cell_type": "markdown",
   "metadata": {},
   "source": [
    "Видим, что разнообразие положений центра масс сильно повысилось."
   ]
  },
  {
   "cell_type": "code",
   "execution_count": 27,
   "metadata": {},
   "outputs": [
    {
     "data": {
      "text/plain": [
       "{(7.0, 8.0), (7.0, 9.0), (7.0, 10.0), (8.0, 8.0), (8.0, 9.0), (8.0, 10.0)}"
      ]
     },
     "execution_count": 27,
     "metadata": {},
     "output_type": "execute_result"
    }
   ],
   "source": [
    "center_mass_coords_fluct_droped_set = set(center_mass_coords_fluct_droped)\n",
    "center_mass_coords_fluct_droped_set"
   ]
  },
  {
   "cell_type": "code",
   "execution_count": 31,
   "metadata": {},
   "outputs": [],
   "source": [
    "freq_rot_droped, rot_periods_droped = frequency(inds_of_diffs_rot_droped, t_rot, 3)\n",
    "last_freq = freq_rot_droped[-1]\n",
    "for k in range(0, (len(t_rot) - len(freq_rot_droped))):\n",
    "    freq_rot_droped.append(last_freq)"
   ]
  },
  {
   "cell_type": "code",
   "execution_count": 32,
   "metadata": {},
   "outputs": [],
   "source": [
    "plt.figure(figsize=(20,10))\n",
    "plt.xlabel('time')\n",
    "plt.ylabel('frequency')\n",
    "plt.title('Frequency in rotation interval')\n",
    "plt.plot(t_rot, freq_rot_droped, ms=1.5)    \n",
    "plt.show()"
   ]
  },
  {
   "cell_type": "code",
   "execution_count": 51,
   "metadata": {},
   "outputs": [
    {
     "data": {
      "text/plain": [
       "4979"
      ]
     },
     "execution_count": 51,
     "metadata": {},
     "output_type": "execute_result"
    }
   ],
   "source": [
    "freq_fluct_droped, fluct_periods_droped = frequency(inds_of_diffs_fluct_droped, t_fluct, 1)\n",
    "len(freq_fluct_droped)"
   ]
  },
  {
   "cell_type": "code",
   "execution_count": 52,
   "metadata": {},
   "outputs": [
    {
     "data": {
      "text/plain": [
       "4979"
      ]
     },
     "execution_count": 52,
     "metadata": {},
     "output_type": "execute_result"
    }
   ],
   "source": [
    "len(freq_fluct_droped)"
   ]
  },
  {
   "cell_type": "code",
   "execution_count": 53,
   "metadata": {},
   "outputs": [],
   "source": [
    "plt.figure(figsize=(20,10))\n",
    "plt.xlabel('time')\n",
    "plt.ylabel('frequency')\n",
    "plt.title('Frequency in fluctuation interval')\n",
    "plt.plot(t_fluct[:4979], freq_fluct_droped, ms=1.5)    \n",
    "plt.show()"
   ]
  },
  {
   "cell_type": "code",
   "execution_count": 44,
   "metadata": {},
   "outputs": [
    {
     "name": "stdout",
     "output_type": "stream",
     "text": [
      "mean in rotation fase = 26.350000000002407\n",
      "median in rotation fase = 15.625000000001721\n",
      "mean in fluctuation fase = 48.830086362721204\n",
      "median in fluctuation fase = 10.96491228070339\n",
      "(0.28230234970606005, 7.516049282282882e-115)\n",
      "(0.43133187020735275, 8.798898724548912e-225)\n"
     ]
    }
   ],
   "source": [
    "freq_rot_droped = np.array(freq_rot_droped)\n",
    "freq_fluct_droped = np.array(freq_fluct_droped)\n",
    "print(f\"mean in rotation fase = {np.mean(freq_rot_droped)}\")\n",
    "print(f\"median in rotation fase = {np.median(freq_rot_droped)}\")\n",
    "print(f\"mean in fluctuation fase = {np.mean(freq_fluct_droped)}\")\n",
    "print(f\"median in fluctuation fase = {np.median(freq_fluct_droped)}\")\n",
    "print(stats.pearsonr(t_rot,freq_rot_droped))\n",
    "print(stats.pearsonr(t_fluct[:4979],freq_fluct_droped))"
   ]
  },
  {
   "cell_type": "markdown",
   "metadata": {},
   "source": [
    "Рассмотрим случай сильной фильтрации. Удалим из рассмотрения все зоны светимости со значением меньше 75 персентиля. Ядро ослаблять не будем."
   ]
  },
  {
   "cell_type": "code",
   "execution_count": 35,
   "metadata": {},
   "outputs": [
    {
     "name": "stdout",
     "output_type": "stream",
     "text": [
      "percentile 25 rot = 748.40524\n",
      "percentile 25 fluct = 281.14925\n"
     ]
    }
   ],
   "source": [
    "matrics_rot_perc_75 = np.mean([np.percentile(mat.flatten(),75) for mat in matrics_rot])\n",
    "matrics_fluct_perc_75 = np.mean([np.percentile(mat.flatten(),75) for mat in matrics_fluct])\n",
    "\n",
    "print(f'percentile 25 rot = {matrics_rot_perc_75}')\n",
    "print(f'percentile 25 fluct = {matrics_fluct_perc_75}')"
   ]
  },
  {
   "cell_type": "code",
   "execution_count": 36,
   "metadata": {},
   "outputs": [],
   "source": [
    "high_filtered_data_rot = np.copy(cur_data_rot)\n",
    "for k in range(high_filtered_data_rot.shape[2]):\n",
    "    for j in range(high_filtered_data_rot.shape[1]):\n",
    "        for i in range(high_filtered_data_rot.shape[0]):\n",
    "            if high_filtered_data_rot[i,j,k] <= matrics_rot_perc_75:\n",
    "                high_filtered_data_rot[i,j,k] = 0"
   ]
  },
  {
   "cell_type": "code",
   "execution_count": 37,
   "metadata": {},
   "outputs": [],
   "source": [
    "high_filtered_data_fluct = np.copy(cur_data_fluct)\n",
    "for k in range(high_filtered_data_fluct.shape[2]):\n",
    "    for j in range(high_filtered_data_fluct.shape[1]):\n",
    "        for i in range(high_filtered_data_fluct.shape[0]):\n",
    "            if high_filtered_data_fluct[i,j,k] <= matrics_fluct_perc_75:\n",
    "                high_filtered_data_fluct[i,j,k] = 0"
   ]
  },
  {
   "cell_type": "code",
   "execution_count": 38,
   "metadata": {},
   "outputs": [
    {
     "name": "stderr",
     "output_type": "stream",
     "text": [
      "__main__:9: RuntimeWarning: invalid value encountered in double_scalars\n",
      "__main__:10: RuntimeWarning: invalid value encountered in double_scalars\n"
     ]
    }
   ],
   "source": [
    "center_mass_coords_rot_filtered, inds_of_diffs_rot_filtered, t_rot_filtered = center_mass_movement(high_filtered_data_rot, interval_rot)\n",
    "center_mass_coords_fluct_filtered, inds_of_diffs_fluct_filtered, t_fluct_filtered = center_mass_movement(high_filtered_data_fluct, interval_fluct)"
   ]
  },
  {
   "cell_type": "code",
   "execution_count": 39,
   "metadata": {},
   "outputs": [],
   "source": [
    "freq_rot_filtered, rot_periods_filtered = frequency(inds_of_diffs_rot_filtered, t_rot, 3)\n",
    "last_freq = freq_rot_droped[-1]\n",
    "for k in range(0, (len(t_rot) - len(freq_rot_filtered))):\n",
    "    freq_rot_filtered.append(last_freq)"
   ]
  },
  {
   "cell_type": "code",
   "execution_count": 40,
   "metadata": {},
   "outputs": [],
   "source": [
    "plt.figure(figsize=(20,10))\n",
    "plt.xlabel('time')\n",
    "plt.ylabel('frequency')\n",
    "plt.title('Frequency in rotation interval')\n",
    "plt.plot(t_rot, freq_rot_filtered, ms=1.5)    \n",
    "plt.show()"
   ]
  },
  {
   "cell_type": "code",
   "execution_count": 41,
   "metadata": {},
   "outputs": [
    {
     "data": {
      "text/plain": [
       "4998"
      ]
     },
     "execution_count": 41,
     "metadata": {},
     "output_type": "execute_result"
    }
   ],
   "source": [
    "freq_fluct_filtered, fluct_periods_filtered = frequency(inds_of_diffs_fluct_filtered, t_fluct, 1)\n",
    "len(freq_fluct_filtered)"
   ]
  },
  {
   "cell_type": "code",
   "execution_count": 54,
   "metadata": {},
   "outputs": [],
   "source": [
    "plt.figure(figsize=(20,10))\n",
    "plt.xlabel('time')\n",
    "plt.ylabel('frequency')\n",
    "plt.title('Frequency in fluctuation interval')\n",
    "plt.plot(t_fluct[:4998], freq_fluct_filtered, ms=1.5)    \n",
    "plt.show()"
   ]
  },
  {
   "cell_type": "code",
   "execution_count": 45,
   "metadata": {},
   "outputs": [
    {
     "name": "stdout",
     "output_type": "stream",
     "text": [
      "mean in rotation fase = 46.10000000000464\n",
      "median in rotation fase = 32.894736842089664\n",
      "mean in fluctuation fase = 78.65646258503712\n",
      "median in fluctuation fase = 22.321428571438112\n",
      "(0.25032441988432447, 6.42484560932837e-90)\n",
      "(0.618712230185287, 0.0)\n"
     ]
    }
   ],
   "source": [
    "freq_rot_droped = np.array(freq_rot_filtered)\n",
    "freq_fluct_droped = np.array(freq_fluct_filtered)\n",
    "print(f\"mean in rotation fase = {np.mean(freq_rot_filtered)}\")\n",
    "print(f\"median in rotation fase = {np.median(freq_rot_filtered)}\")\n",
    "print(f\"mean in fluctuation fase = {np.mean(freq_fluct_filtered)}\")\n",
    "print(f\"median in fluctuation fase = {np.median(freq_fluct_filtered)}\")\n",
    "print(stats.pearsonr(t_rot,freq_rot_filtered))\n",
    "print(stats.pearsonr(t_fluct[:4998],freq_fluct_filtered))"
   ]
  }
 ],
 "metadata": {
  "kernelspec": {
   "display_name": "xpython",
   "language": "python",
   "name": "xpython"
  },
  "language_info": {
   "file_extension": ".py",
   "mimetype": "text/x-python",
   "name": "python",
   "version": "3.7.6"
  }
 },
 "nbformat": 4,
 "nbformat_minor": 4
}
